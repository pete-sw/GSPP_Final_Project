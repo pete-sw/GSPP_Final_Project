{
 "metadata": {
  "name": "",
  "signature": "sha256:b4ee1b339604aabde3e92354ea1bc67e4404fee91edfc14d9e59995457be6661"
 },
 "nbformat": 3,
 "nbformat_minor": 0,
 "worksheets": [
  {
   "cells": [
    {
     "cell_type": "code",
     "collapsed": false,
     "input": [
      "import pysal\n",
      "#help(pysal)\n",
      "shp = pysal.open('../Data/usafecount/usap15ag/points_w_values_t5.shp')"
     ],
     "language": "python",
     "metadata": {},
     "outputs": [],
     "prompt_number": 2
    },
    {
     "cell_type": "code",
     "collapsed": false,
     "input": [
      "poly = shp.next()\n",
      "poly"
     ],
     "language": "python",
     "metadata": {},
     "outputs": [
      {
       "metadata": {},
       "output_type": "pyout",
       "prompt_number": 15,
       "text": [
        "(-94.93749999993116, 49.35416666669175)"
       ]
      }
     ],
     "prompt_number": 15
    },
    {
     "cell_type": "code",
     "collapsed": false,
     "input": [
      "shp.header"
     ],
     "language": "python",
     "metadata": {},
     "outputs": [
      {
       "metadata": {},
       "output_type": "pyout",
       "prompt_number": 10,
       "text": [
        "{'BBOX Mmax': 0.0,\n",
        " 'BBOX Mmin': 0.0,\n",
        " 'BBOX Xmax': -66.93749999990875,\n",
        " 'BBOX Xmin': -124.72916666662164,\n",
        " 'BBOX Ymax': 49.395833333358446,\n",
        " 'BBOX Ymin': 24.520833333338548,\n",
        " 'BBOX Zmax': 0.0,\n",
        " 'BBOX Zmin': 0.0,\n",
        " 'File Code': 9994,\n",
        " 'File Length': 2475768,\n",
        " 'Shape Type': 1,\n",
        " 'Unused0': 0,\n",
        " 'Unused1': 0,\n",
        " 'Unused2': 0,\n",
        " 'Unused3': 0,\n",
        " 'Unused4': 0,\n",
        " 'Version': 1000}"
       ]
      }
     ],
     "prompt_number": 10
    },
    {
     "cell_type": "code",
     "collapsed": false,
     "input": [
      "polys = list(shp)"
     ],
     "language": "python",
     "metadata": {},
     "outputs": [],
     "prompt_number": 13
    },
    {
     "cell_type": "code",
     "collapsed": false,
     "input": [
      "#We need to open the DBF to get the values for the points\n",
      "db = pysal.open('../Data/usafecount/usap15ag/points_w_values_t5.dbf','r')\n",
      "#Then zip those together with the lat and longs\n",
      "lat_long_val = zip(polys, db)\n",
      "#But it makes a tuple of tuples, which is lame, so let's convert to a list of lists\n",
      "#the Lat/Longs are still a tuple, thats fine\n",
      "lat_long_val_list = [list(elem) for elem in lat_long_val]\n",
      "for i in lat_long_val_list:\n",
      "    i[1] = i[1][0]\n",
      "lat_long_val_list[20]"
     ],
     "language": "python",
     "metadata": {},
     "outputs": [
      {
       "metadata": {},
       "output_type": "pyout",
       "prompt_number": 49,
       "text": [
        "[(-94.85416666659776, 49.187500000024954), 4]"
       ]
      }
     ],
     "prompt_number": 49
    },
    {
     "cell_type": "code",
     "collapsed": false,
     "input": [],
     "language": "python",
     "metadata": {},
     "outputs": [],
     "prompt_number": 18
    },
    {
     "cell_type": "code",
     "collapsed": false,
     "input": [],
     "language": "python",
     "metadata": {},
     "outputs": [
      {
       "metadata": {},
       "output_type": "pyout",
       "prompt_number": 24,
       "text": [
        "((-95.14583333326466, 49.395833333358446), [3])"
       ]
      }
     ],
     "prompt_number": 24
    },
    {
     "cell_type": "code",
     "collapsed": false,
     "input": [],
     "language": "python",
     "metadata": {},
     "outputs": [],
     "prompt_number": 47
    },
    {
     "cell_type": "code",
     "collapsed": false,
     "input": [],
     "language": "python",
     "metadata": {},
     "outputs": [
      {
       "metadata": {},
       "output_type": "pyout",
       "prompt_number": 48,
       "text": [
        "[(-94.85416666659776, 49.187500000024954), 4]"
       ]
      }
     ],
     "prompt_number": 48
    },
    {
     "cell_type": "code",
     "collapsed": false,
     "input": [],
     "language": "python",
     "metadata": {},
     "outputs": []
    }
   ],
   "metadata": {}
  }
 ]
}