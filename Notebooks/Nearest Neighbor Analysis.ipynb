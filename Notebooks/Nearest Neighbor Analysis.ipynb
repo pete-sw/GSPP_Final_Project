{
 "metadata": {
  "name": "",
  "signature": "sha256:c324d902ebff699f141064171a854ada8731d48cec171db687ad676e5ec4b2cb"
 },
 "nbformat": 3,
 "nbformat_minor": 0,
 "worksheets": [
  {
   "cells": [
    {
     "cell_type": "heading",
     "level": 3,
     "metadata": {},
     "source": [
      "Nearest Neighbor"
     ]
    },
    {
     "cell_type": "code",
     "collapsed": false,
     "input": [
      "#Will take dist_matrix as the input but just using a sample matrix for now\n",
      "import numpy as np\n",
      "a = np.ones(shape=(5,5))\n",
      "a[0][1] = 5\n",
      "a[2][1] = 7\n",
      "a[3][2] = 2\n",
      "a[0][4] = 9\n",
      "a[1][3] = 7\n",
      "a[2][3] = 11\n",
      "a[4][0] = 19\n",
      "a[0][0] = 2\n",
      "a[0][2] = 4\n",
      "a[0][3] = 7\n",
      "a"
     ],
     "language": "python",
     "metadata": {},
     "outputs": [
      {
       "metadata": {},
       "output_type": "pyout",
       "prompt_number": 4,
       "text": [
        "array([[  2.,   5.,   4.,   7.,   9.],\n",
        "       [  1.,   1.,   1.,   7.,   1.],\n",
        "       [  1.,   7.,   1.,  11.,   1.],\n",
        "       [  1.,   1.,   2.,   1.,   1.],\n",
        "       [ 19.,   1.,   1.,   1.,   1.]])"
       ]
      }
     ],
     "prompt_number": 4
    },
    {
     "cell_type": "code",
     "collapsed": false,
     "input": [
      "#Nearest neighbor function\n",
      "def nearest_neighbor(input_array):\n",
      "    #Create a nearest neighbor list\n",
      "    nearest_neighbor_dist = []\n",
      "    #For each data center (using column as the index)\n",
      "    for index, row in enumerate(input_array):\n",
      "        #Find the minimum value that is greater than (about) zero\n",
      "        nearest_neighbor_dist.append(min(x for x in row if x > .0001))\n",
      "        #print min(row)\n",
      "    return nearest_neighbor_dist"
     ],
     "language": "python",
     "metadata": {},
     "outputs": [],
     "prompt_number": 18
    },
    {
     "cell_type": "code",
     "collapsed": false,
     "input": [
      "nearest_neighbor(a)"
     ],
     "language": "python",
     "metadata": {},
     "outputs": [
      {
       "metadata": {},
       "output_type": "pyout",
       "prompt_number": 19,
       "text": [
        "[2.0, 1.0, 1.0, 1.0, 1.0]"
       ]
      }
     ],
     "prompt_number": 19
    },
    {
     "cell_type": "heading",
     "level": 3,
     "metadata": {},
     "source": [
      "Nth nearest neighbor"
     ]
    },
    {
     "cell_type": "code",
     "collapsed": false,
     "input": [
      "#Select the nth smallest value in a list\n",
      "#from http://code.activestate.com/recipes/269554-select-the-nth-smallest-element/\n",
      "import random\n",
      "def select_smallest(data, n):\n",
      "    \"Find the nth rank ordered element (the least value has rank 0).\"\n",
      "    data = list(data)\n",
      "    if not 0 <= n < len(data):\n",
      "        raise ValueError('not enough elements for the given rank')\n",
      "    while True:\n",
      "        pivot = random.choice(data)\n",
      "        pcount = 0\n",
      "        under, over = [], []\n",
      "        uappend, oappend = under.append, over.append\n",
      "        for elem in data:\n",
      "            if elem < pivot:\n",
      "                uappend(elem)\n",
      "            elif elem > pivot:\n",
      "                oappend(elem)\n",
      "            else:\n",
      "                pcount += 1\n",
      "        if n < len(under):\n",
      "            data = under\n",
      "        elif n < len(under) + pcount:\n",
      "            return pivot\n",
      "        else:\n",
      "            data = over\n",
      "            n -= len(under) + pcount"
     ],
     "language": "python",
     "metadata": {},
     "outputs": [],
     "prompt_number": 61
    },
    {
     "cell_type": "code",
     "collapsed": false,
     "input": [
      "#Nearest N neighbor function\n",
      "def n_nearest_neighbor(input_array, nth_neighbor):\n",
      "    #Create a nearest neighbor list\n",
      "    n_nearest_neighbor_dist = []\n",
      "    #For each data center (using column as the index)\n",
      "    for index, row in enumerate(input_array):\n",
      "        #Find the N minimum value\n",
      "        n_nearest_neighbor_dist.append(select_smallest(row, nth_neighbor))\n",
      "        #print row\n",
      "    return n_nearest_neighbor_dist"
     ],
     "language": "python",
     "metadata": {},
     "outputs": []
    }
   ],
   "metadata": {}
  }
 ]
}