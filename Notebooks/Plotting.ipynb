{
 "metadata": {
  "name": "",
  "signature": "sha256:125b3ba8b1cb495f5bd8e19cb86fe98fdb93409b35b5a50f72cabf36a7b9f255"
 },
 "nbformat": 3,
 "nbformat_minor": 0,
 "worksheets": [
  {
   "cells": [
    {
     "cell_type": "heading",
     "level": 3,
     "metadata": {},
     "source": [
      "Basic Seaborn Histogram"
     ]
    },
    {
     "cell_type": "code",
     "collapsed": false,
     "input": [
      "%matplotlib inline"
     ],
     "language": "python",
     "metadata": {},
     "outputs": [],
     "prompt_number": 6
    },
    {
     "cell_type": "code",
     "collapsed": false,
     "input": [
      "#import numpy as np\n",
      "from numpy.random import randn\n",
      "#import pandas as pd\n",
      "from scipy import stats\n",
      "import matplotlib as mpl\n",
      "import matplotlib.pyplot as plt\n",
      "import seaborn as sns"
     ],
     "language": "python",
     "metadata": {},
     "outputs": [],
     "prompt_number": 2
    },
    {
     "cell_type": "code",
     "collapsed": false,
     "input": [
      "sns.set_palette(\"deep\", desat=.6)\n",
      "sns.set_context(rc={\"figure.figsize\": (8, 4)})\n",
      "np.random.seed(9221999)"
     ],
     "language": "python",
     "metadata": {},
     "outputs": [],
     "prompt_number": 3
    },
    {
     "cell_type": "code",
     "collapsed": false,
     "input": [
      "data = randn(75)\n",
      "plt.hist(data, 20);"
     ],
     "language": "python",
     "metadata": {},
     "outputs": [],
     "prompt_number": 4
    },
    {
     "cell_type": "heading",
     "level": 3,
     "metadata": {},
     "source": [
      "Subplots"
     ]
    },
    {
     "cell_type": "code",
     "collapsed": false,
     "input": [
      "f, axarr = plt.subplots(3, sharex=True, sharey=True)\n",
      "f.suptitle(\"10th Nearest Neighbor\", fontsize=14)\n",
      "axarr[0].hist(data);\n",
      "axarr[0].set_title('Actual')\n",
      "axarr[1].hist(data);\n",
      "axarr[1].set_title('Random')\n",
      "axarr[2].hist(data);\n",
      "axarr[2].set_title('Poisson')"
     ],
     "language": "python",
     "metadata": {},
     "outputs": [
      {
       "metadata": {},
       "output_type": "pyout",
       "prompt_number": 7,
       "text": [
        "<matplotlib.text.Text at 0x10b4f2450>"
       ]
      },
      {
       "metadata": {},
       "output_type": "display_data",
       "png": "[encoded data removed]",
       "text": [
        "<matplotlib.figure.Figure at 0x10abe3250>"
       ]
      }
     ],
     "prompt_number": 7
    },
    {
     "cell_type": "heading",
     "level": 3,
     "metadata": {},
     "source": [
      "Heatmap of Actual Data Centers"
     ]
    },
    {
     "cell_type": "code",
     "collapsed": false,
     "input": [
      "#from http://nbviewer.ipython.org/url/bagrow.com/dsv/heatmap_basemap.ipynb\n",
      "\n",
      "from matplotlib.colors import LinearSegmentedColormap\n",
      "\n",
      "#These are from the actual dataset\n",
      "lats = lat_DC\n",
      "lons = lon_DC\n",
      "            \n",
      "# Use orthographic projection centered on California with corners\n",
      "# defined by number of meters from center position:\n",
      "m = Basemap(projection='merc', lat_0 = 40, lon_0 = -80,\n",
      "    resolution = 'l', area_thresh = 9000,\n",
      "    llcrnrlon=-130, llcrnrlat=24,\n",
      "    urcrnrlon=-67, urcrnrlat=49)\n",
      "\n",
      "m.drawcoastlines()\n",
      "m.drawcountries()\n",
      "#m.drawstates()\n",
      " \n",
      "# compute appropriate bins to chop up the data:\n",
      "db = 1 # bin padding\n",
      "lon_bins = np.linspace(min(lons)-10, max(lons)+10, 50+1) # 10 bins\n",
      "lat_bins = np.linspace(min(lats)-10, max(lats)+10, 50+1) # 13 bins\n",
      "    \n",
      "density, _, _ = np.histogram2d(lats, lons, [lat_bins, lon_bins])\n",
      "\n",
      "# Turn the lon/lat of the bins into 2 dimensional arrays ready\n",
      "# for conversion into projected coordinates\n",
      "lon_bins_2d, lat_bins_2d = np.meshgrid(lon_bins, lat_bins)\n",
      "\n",
      "# convert the bin mesh to map coordinates:\n",
      "xs, ys = m(lon_bins_2d, lat_bins_2d) # will be plotted using pcolormesh\n",
      "# ######################################################################\n",
      "\n",
      "\n",
      "\n",
      "# define custom colormap, white -> nicered, #E6072A = RGB(0.9,0.03,0.16)\n",
      "cdict = {'red':  ( (0.0,  1.0,  1.0),\n",
      "                   (1.0,  0.9,  1.0) ),\n",
      "         'green':( (0.0,  1.0,  1.0),\n",
      "                   (1.0,  0.03, 0.0) ),\n",
      "         'blue': ( (0.0,  1.0,  1.0),\n",
      "                   (1.0,  0.16, 0.0) ) }\n",
      "custom_map = LinearSegmentedColormap('custom_map', cdict)\n",
      "plt.register_cmap(cmap=custom_map)\n",
      "\n",
      "\n",
      "# add histogram squares and a corresponding colorbar to the map:\n",
      "plt.pcolormesh(xs, ys, density, cmap=\"custom_map\")\n",
      "\n",
      "cbar = plt.colorbar(orientation='horizontal', shrink=0.625, aspect=20, fraction=0.2,pad=0.02)\n",
      "cbar.set_label('Data Center Locations',size=18)\n",
      "#plt.clim([0,100])\n",
      "     \n",
      "    \n",
      "# make image bigger:\n",
      "#plt.gcf().set_size_inches(15,15)\n",
      "\n",
      "plt.show()"
     ],
     "language": "python",
     "metadata": {},
     "outputs": [
      {
       "ename": "NameError",
       "evalue": "name 'lat_DC' is not defined",
       "output_type": "pyerr",
       "traceback": [
        "\u001b[0;31m---------------------------------------------------------------------------\u001b[0m\n\u001b[0;31mNameError\u001b[0m                                 Traceback (most recent call last)",
        "\u001b[0;32m<ipython-input-8-5eb1bc891301>\u001b[0m in \u001b[0;36m<module>\u001b[0;34m()\u001b[0m\n\u001b[1;32m      2\u001b[0m \u001b[0;34m\u001b[0m\u001b[0m\n\u001b[1;32m      3\u001b[0m \u001b[0;34m\u001b[0m\u001b[0m\n\u001b[0;32m----> 4\u001b[0;31m \u001b[0mlats\u001b[0m \u001b[0;34m=\u001b[0m \u001b[0mlat_DC\u001b[0m\u001b[0;34m\u001b[0m\u001b[0m\n\u001b[0m\u001b[1;32m      5\u001b[0m \u001b[0mlons\u001b[0m \u001b[0;34m=\u001b[0m \u001b[0mlon_DC\u001b[0m\u001b[0;34m\u001b[0m\u001b[0m\n\u001b[1;32m      6\u001b[0m \u001b[0;34m\u001b[0m\u001b[0m\n",
        "\u001b[0;31mNameError\u001b[0m: name 'lat_DC' is not defined"
       ]
      }
     ],
     "prompt_number": 8
    },
    {
     "cell_type": "code",
     "collapsed": false,
     "input": [],
     "language": "python",
     "metadata": {},
     "outputs": []
    }
   ],
   "metadata": {}
  }
 ]
}