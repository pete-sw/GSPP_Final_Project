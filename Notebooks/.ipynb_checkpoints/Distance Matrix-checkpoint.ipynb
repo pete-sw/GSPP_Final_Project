{
 "metadata": {
  "name": "",
  "signature": "sha256:76288262fe21187c4bf8bf326ff588aab15c34657f57fb1d4d8aafc1b11c19ab"
 },
 "nbformat": 3,
 "nbformat_minor": 0,
 "worksheets": [
  {
   "cells": [
    {
     "cell_type": "code",
     "collapsed": false,
     "input": [
      "#Data comes in as a list of lists, with the sublists as lat/long pairs\n",
      "data=[[37.7577,-122.4376], [41.703427, -88.121665], [44.703427, -68.121665]]"
     ],
     "language": "python",
     "metadata": {},
     "outputs": [],
     "prompt_number": 139
    },
    {
     "cell_type": "code",
     "collapsed": false,
     "input": [
      "#This actually gets the right distance\n",
      "#from http://www.johndcook.com/blog/python_longitude_latitude/\n",
      "#multiply by 3960 for value in miles\n",
      "#multiply by 6373 for value in km\n",
      "\n",
      "import math\n",
      "\n",
      "#this function gets used inside the create_dist_matrix function\n",
      "def distance_on_unit_sphere(lat1, long1, lat2, long2):\n",
      " \n",
      "    # Convert latitude and longitude to \n",
      "    # spherical coordinates in radians.\n",
      "    degrees_to_radians = math.pi/180.0\n",
      "         \n",
      "    # phi = 90 - latitude\n",
      "    phi1 = (90.0 - lat1)*degrees_to_radians\n",
      "    phi2 = (90.0 - lat2)*degrees_to_radians\n",
      "         \n",
      "    # theta = longitude\n",
      "    theta1 = long1*degrees_to_radians\n",
      "    theta2 = long2*degrees_to_radians\n",
      "         \n",
      "    # Compute spherical distance from spherical coordinates.\n",
      "         \n",
      "    # For two locations in spherical coordinates \n",
      "    # (1, theta, phi) and (1, theta, phi)\n",
      "    # cosine( arc length ) = \n",
      "    #    sin phi sin phi' cos(theta-theta') + cos phi cos phi'\n",
      "    # distance = rho * arc length\n",
      "     \n",
      "    cos = (math.sin(phi1)*math.sin(phi2)*math.cos(theta1 - theta2) + \n",
      "           math.cos(phi1)*math.cos(phi2))\n",
      "    arc = math.acos( cos )\n",
      " \n",
      "    # Remember to multiply arc by the radius of the earth \n",
      "    # in your favorite set of units to get length.\n",
      "    return arc"
     ],
     "language": "python",
     "metadata": {},
     "outputs": [],
     "prompt_number": 130
    },
    {
     "cell_type": "code",
     "collapsed": false,
     "input": [
      "def create_dist_matrix(lat_lon_pairs):\n",
      "    dist_matrix = np.empty\n",
      "    for index, value in enumerate(lat_lon_pairs):\n",
      "        for secondary_index, secondary_value in enumerate(lat_lon_pairs):\n",
      "    #         print \"Index, \", index, value\n",
      "    #         print \"Secondary\", secondary_index, secondary_value\n",
      "            #print \"Index= \" + str(index) + ', Val= ' + str(value)\n",
      "            #for secondary_index in range(len(dist_matrix[0])):\n",
      "            #print dist_matrix[index][secondary_index]\n",
      "            #print \"Dist_Matrix= \" + str(dist_matrix[index][secondary_index])\n",
      "\n",
      "            #Getting a stupid value error where it can't calculate distance between same points that should be zero\n",
      "            while True:\n",
      "                try:\n",
      "                    #print \"No problem at, \", index, secondary_index\n",
      "                    dist_matrix[index][secondary_index] = 3960*distance_on_unit_sphere(value[0], value[1], secondary_value[0], secondary_value[1])\n",
      "                    break\n",
      "                except ValueError:\n",
      "                    #print \"Problem! \", index, secondary_index\n",
      "                    dist_matrix[index][secondary_index] = 0\n",
      "                    break\n",
      "\n",
      "            if dist_matrix[index][secondary_index] < .0001:\n",
      "                dist_matrix[index][secondary_index] = 0\n",
      "    return dist_matrix"
     ],
     "language": "python",
     "metadata": {},
     "outputs": [],
     "prompt_number": 1
    },
    {
     "cell_type": "code",
     "collapsed": false,
     "input": [],
     "language": "python",
     "metadata": {},
     "outputs": []
    },
    {
     "cell_type": "code",
     "collapsed": false,
     "input": [],
     "language": "python",
     "metadata": {},
     "outputs": []
    },
    {
     "cell_type": "code",
     "collapsed": false,
     "input": [],
     "language": "python",
     "metadata": {},
     "outputs": []
    },
    {
     "cell_type": "code",
     "collapsed": false,
     "input": [],
     "language": "python",
     "metadata": {},
     "outputs": []
    },
    {
     "cell_type": "code",
     "collapsed": false,
     "input": [],
     "language": "python",
     "metadata": {},
     "outputs": []
    },
    {
     "cell_type": "code",
     "collapsed": false,
     "input": [],
     "language": "python",
     "metadata": {},
     "outputs": []
    },
    {
     "cell_type": "code",
     "collapsed": false,
     "input": [],
     "language": "python",
     "metadata": {},
     "outputs": []
    },
    {
     "cell_type": "code",
     "collapsed": false,
     "input": [],
     "language": "python",
     "metadata": {},
     "outputs": []
    },
    {
     "cell_type": "raw",
     "metadata": {},
     "source": [
      "Other options that didn't work out as well"
     ]
    },
    {
     "cell_type": "code",
     "collapsed": false,
     "input": [
      "#This approach spits it out in degrees, not miles or kilometers\n",
      "#But it does provide a matrix\n",
      "#https://stackoverflow.com/questions/22720864/efficiently-calculating-a-euclidean-distance-matrix-using-numpy\n",
      "\n",
      "import numpy as np\n",
      "z = np.array([complex(c[0], c[1]) for c in data])\n",
      "m, n = np.meshgrid(z, z)\n",
      "# get the distance via the norm\n",
      "out = abs(m-n)\n",
      "out\n",
      "#But a problem is that in out, it doesn't split up the row values as a list of lists\n",
      "#So you can't call any individual item, jsut a row\n"
     ],
     "language": "python",
     "metadata": {},
     "outputs": []
    },
    {
     "cell_type": "code",
     "collapsed": false,
     "input": [
      "dist_matrix=(distance_on_unit_sphere(hstack([data,]*5).reshape(-1,2).T, vstack([data,]*5).T)).reshape(5,5)\n",
      "#Pretty sure this calculates the wrong distancd, but a distance matrix might be nice to have in general"
     ],
     "language": "python",
     "metadata": {},
     "outputs": []
    },
    {
     "cell_type": "code",
     "collapsed": false,
     "input": [
      "out = abs(z[..., np.newaxis] - z)\n",
      "for counter1, x in enumerate(out):\n",
      "    print x[4][0]"
     ],
     "language": "python",
     "metadata": {},
     "outputs": []
    }
   ],
   "metadata": {}
  }
 ]
}