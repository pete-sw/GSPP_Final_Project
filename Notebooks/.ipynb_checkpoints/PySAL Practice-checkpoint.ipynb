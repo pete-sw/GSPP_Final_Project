{
 "metadata": {
  "name": "",
  "signature": "sha256:09f9e91cdf469704260c596b0b0c5b1176090066e4d060307aa9a956e049f0dc"
 },
 "nbformat": 3,
 "nbformat_minor": 0,
 "worksheets": [
  {
   "cells": [
    {
     "cell_type": "code",
     "collapsed": false,
     "input": [
      "import pysal as ps\n",
      "#help(pysal)\n",
      "shp = pysal.open('../Data/usafecount/usap15ag/points_w_values_t5.shp')"
     ],
     "language": "python",
     "metadata": {},
     "outputs": [],
     "prompt_number": 8
    },
    {
     "cell_type": "code",
     "collapsed": false,
     "input": [],
     "language": "python",
     "metadata": {},
     "outputs": [
      {
       "metadata": {},
       "output_type": "pyout",
       "prompt_number": 4,
       "text": [
        "pysal.cg.shapes.Point"
       ]
      }
     ],
     "prompt_number": 4
    },
    {
     "cell_type": "code",
     "collapsed": false,
     "input": [],
     "language": "python",
     "metadata": {},
     "outputs": [
      {
       "metadata": {},
       "output_type": "pyout",
       "prompt_number": 5,
       "text": [
        "176837"
       ]
      }
     ],
     "prompt_number": 5
    },
    {
     "cell_type": "code",
     "collapsed": false,
     "input": [],
     "language": "python",
     "metadata": {},
     "outputs": [
      {
       "metadata": {},
       "output_type": "pyout",
       "prompt_number": 6,
       "text": [
        "176837"
       ]
      }
     ],
     "prompt_number": 6
    },
    {
     "cell_type": "code",
     "collapsed": false,
     "input": [],
     "language": "python",
     "metadata": {},
     "outputs": [
      {
       "metadata": {},
       "output_type": "pyout",
       "prompt_number": 7,
       "text": [
        "176837"
       ]
      }
     ],
     "prompt_number": 7
    },
    {
     "cell_type": "code",
     "collapsed": false,
     "input": [
      "shp.header"
     ],
     "language": "python",
     "metadata": {},
     "outputs": [
      {
       "metadata": {},
       "output_type": "pyout",
       "prompt_number": 10,
       "text": [
        "{'BBOX Mmax': 0.0,\n",
        " 'BBOX Mmin': 0.0,\n",
        " 'BBOX Xmax': -66.93749999990875,\n",
        " 'BBOX Xmin': -124.72916666662164,\n",
        " 'BBOX Ymax': 49.395833333358446,\n",
        " 'BBOX Ymin': 24.520833333338548,\n",
        " 'BBOX Zmax': 0.0,\n",
        " 'BBOX Zmin': 0.0,\n",
        " 'File Code': 9994,\n",
        " 'File Length': 2475768,\n",
        " 'Shape Type': 1,\n",
        " 'Unused0': 0,\n",
        " 'Unused1': 0,\n",
        " 'Unused2': 0,\n",
        " 'Unused3': 0,\n",
        " 'Unused4': 0,\n",
        " 'Version': 1000}"
       ]
      }
     ],
     "prompt_number": 10
    },
    {
     "cell_type": "code",
     "collapsed": false,
     "input": [],
     "language": "python",
     "metadata": {},
     "outputs": []
    }
   ],
   "metadata": {}
  }
 ]
}