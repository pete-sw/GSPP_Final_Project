{
 "metadata": {
  "name": "",
  "signature": "sha256:220b00f25fc1ecd5288fcd94323f30b38209426f37abc940252292e8f09f0b90"
 },
 "nbformat": 3,
 "nbformat_minor": 0,
 "worksheets": [
  {
   "cells": [
    {
     "cell_type": "code",
     "collapsed": false,
     "input": [
      "import shapefile\n",
      "sf = shapefile.Reader(\"Data/states_21basic/states\")\n",
      "shapes = sf.shapes()\n",
      "#Make sure we have all 50 states and DC\n",
      "len(shapes)"
     ],
     "language": "python",
     "metadata": {},
     "outputs": [],
     "prompt_number": 2
    },
    {
     "cell_type": "code",
     "collapsed": false,
     "input": [
      "# Read the bounding box from the 4th shape\n",
      "shapes[3].bbox"
     ],
     "language": "python",
     "metadata": {},
     "outputs": [
      {
       "metadata": {},
       "output_type": "pyout",
       "prompt_number": 3,
       "text": [
        "[-71.08750926259319, 43.09105036759641, -66.96927125875777, 47.4533343716591]"
       ]
      }
     ],
     "prompt_number": 3
    },
    {
     "cell_type": "code",
     "collapsed": false,
     "input": [
      "#Get the 7th point of the 4th shape\n",
      "shapes[3].points[7]"
     ],
     "language": "python",
     "metadata": {},
     "outputs": [
      {
       "metadata": {},
       "output_type": "pyout",
       "prompt_number": 4,
       "text": [
        "[-69.90313226149014, 43.790732368248044]"
       ]
      }
     ],
     "prompt_number": 4
    },
    {
     "cell_type": "code",
     "collapsed": false,
     "input": [
      "sf.fields"
     ],
     "language": "python",
     "metadata": {},
     "outputs": [
      {
       "metadata": {},
       "output_type": "pyout",
       "prompt_number": 5,
       "text": [
        "[('DeletionFlag', 'C', 1, 0),\n",
        " ['STATE_NAME', 'C', 25, 0],\n",
        " ['DRAWSEQ', 'N', 2, 0],\n",
        " ['STATE_FIPS', 'C', 2, 0],\n",
        " ['SUB_REGION', 'C', 20, 0],\n",
        " ['STATE_ABBR', 'C', 2, 0]]"
       ]
      }
     ],
     "prompt_number": 5
    },
    {
     "cell_type": "code",
     "collapsed": false,
     "input": [
      "records = sf.records()\n",
      "records"
     ],
     "language": "python",
     "metadata": {},
     "outputs": [
      {
       "metadata": {},
       "output_type": "pyout",
       "prompt_number": 12,
       "text": [
        "[['Hawaii', 1, '15', 'Pacific', 'HI'],\n",
        " ['Washington', 2, '53', 'Pacific', 'WA'],\n",
        " ['Montana', 3, '30', 'Mountain', 'MT'],\n",
        " ['Maine', 4, '23', 'New England', 'ME'],\n",
        " ['North Dakota', 5, '38', 'West North Central', 'ND'],\n",
        " ['South Dakota', 6, '46', 'West North Central', 'SD'],\n",
        " ['Wyoming', 7, '56', 'Mountain', 'WY'],\n",
        " ['Wisconsin', 8, '55', 'East North Central', 'WI'],\n",
        " ['Idaho', 9, '16', 'Mountain', 'ID'],\n",
        " ['Vermont', 10, '50', 'New England', 'VT'],\n",
        " ['Minnesota', 11, '27', 'West North Central', 'MN'],\n",
        " ['Oregon', 12, '41', 'Pacific', 'OR'],\n",
        " ['New Hampshire', 13, '33', 'New England', 'NH'],\n",
        " ['Iowa', 14, '19', 'West North Central', 'IA'],\n",
        " ['Massachusetts', 15, '25', 'New England', 'MA'],\n",
        " ['Nebraska', 16, '31', 'West North Central', 'NE'],\n",
        " ['New York', 17, '36', 'Middle Atlantic', 'NY'],\n",
        " ['Pennsylvania', 18, '42', 'Middle Atlantic', 'PA'],\n",
        " ['Connecticut', 19, '09', 'New England', 'CT'],\n",
        " ['Rhode Island', 20, '44', 'New England', 'RI'],\n",
        " ['New Jersey', 21, '34', 'Middle Atlantic', 'NJ'],\n",
        " ['Indiana', 22, '18', 'East North Central', 'IN'],\n",
        " ['Nevada', 23, '32', 'Mountain', 'NV'],\n",
        " ['Utah', 24, '49', 'Mountain', 'UT'],\n",
        " ['California', 25, '06', 'Pacific', 'CA'],\n",
        " ['Ohio', 26, '39', 'East North Central', 'OH'],\n",
        " ['Illinois', 27, '17', 'East North Central', 'IL'],\n",
        " ['District of Columbia', 28, '11', 'South Atlantic', 'DC'],\n",
        " ['Delaware', 29, '10', 'South Atlantic', 'DE'],\n",
        " ['West Virginia', 30, '54', 'South Atlantic', 'WV'],\n",
        " ['Maryland', 31, '24', 'South Atlantic', 'MD'],\n",
        " ['Colorado', 32, '08', 'Mountain', 'CO'],\n",
        " ['Kentucky', 33, '21', 'East South Central', 'KY'],\n",
        " ['Kansas', 34, '20', 'West North Central', 'KS'],\n",
        " ['Virginia', 35, '51', 'South Atlantic', 'VA'],\n",
        " ['Missouri', 36, '29', 'West North Central', 'MO'],\n",
        " ['Arizona', 37, '04', 'Mountain', 'AZ'],\n",
        " ['Oklahoma', 38, '40', 'West South Central', 'OK'],\n",
        " ['North Carolina', 39, '37', 'South Atlantic', 'NC'],\n",
        " ['Tennessee', 40, '47', 'East South Central', 'TN'],\n",
        " ['Texas', 41, '48', 'West South Central', 'TX'],\n",
        " ['New Mexico', 42, '35', 'Mountain', 'NM'],\n",
        " ['Alabama', 43, '01', 'East South Central', 'AL'],\n",
        " ['Mississippi', 44, '28', 'East South Central', 'MS'],\n",
        " ['Georgia', 45, '13', 'South Atlantic', 'GA'],\n",
        " ['South Carolina', 46, '45', 'South Atlantic', 'SC'],\n",
        " ['Arkansas', 47, '05', 'West South Central', 'AR'],\n",
        " ['Louisiana', 48, '22', 'West South Central', 'LA'],\n",
        " ['Florida', 49, '12', 'South Atlantic', 'FL'],\n",
        " ['Michigan', 50, '26', 'East North Central', 'MI'],\n",
        " ['Alaska', 51, '02', 'Pacific', 'AK']]"
       ]
      }
     ],
     "prompt_number": 12
    },
    {
     "cell_type": "code",
     "collapsed": false,
     "input": [
      "#   -- import --\n",
      "import shapefile\n",
      "import matplotlib.pyplot as plt\n",
      "import matplotlib.patches as patches\n",
      "from matplotlib.patches import Polygon\n",
      "from matplotlib.collections import PatchCollection\n",
      "#   -- input --\n",
      "sf = shapefile.Reader(\"Data/states_21basic/states\")\n",
      "recs    = sf.records()\n",
      "shapes  = sf.shapes()\n",
      "Nshp    = len(shapes)\n",
      "cns     = []\n",
      "for nshp in xrange(Nshp):\n",
      "    cns.append(recs[nshp][1])\n",
      "cns = array(cns)\n",
      "cm    = get_cmap('Dark2')\n",
      "cccol = cm(1.*arange(Nshp)/Nshp)\n",
      "#   -- plot --\n",
      "fig     = plt.figure()\n",
      "ax      = fig.add_subplot(111)\n",
      "for nshp in xrange(Nshp):\n",
      "    ptchs   = []\n",
      "    pts     = array(shapes[nshp].points)\n",
      "    prt     = shapes[nshp].parts\n",
      "    par     = list(prt) + [pts.shape[0]]\n",
      "    for pij in xrange(len(prt)):\n",
      "     ptchs.append(Polygon(pts[par[pij]:par[pij+1]]))\n",
      "    ax.add_collection(PatchCollection(ptchs,facecolor=cccol[nshp,:],edgecolor='k', linewidths=.1))\n",
      "ax.set_xlim(-180,+180)\n",
      "ax.set_ylim(-90,90)\n",
      "fig.savefig('test.png')"
     ],
     "language": "python",
     "metadata": {},
     "outputs": [
      {
       "ename": "NameError",
       "evalue": "name 'array' is not defined",
       "output_type": "pyerr",
       "traceback": [
        "\u001b[0;31m---------------------------------------------------------------------------\u001b[0m\n\u001b[0;31mNameError\u001b[0m                                 Traceback (most recent call last)",
        "\u001b[0;32m<ipython-input-13-caa4e31d6e59>\u001b[0m in \u001b[0;36m<module>\u001b[0;34m()\u001b[0m\n\u001b[1;32m     13\u001b[0m \u001b[0;32mfor\u001b[0m \u001b[0mnshp\u001b[0m \u001b[0;32min\u001b[0m \u001b[0mxrange\u001b[0m\u001b[0;34m(\u001b[0m\u001b[0mNshp\u001b[0m\u001b[0;34m)\u001b[0m\u001b[0;34m:\u001b[0m\u001b[0;34m\u001b[0m\u001b[0m\n\u001b[1;32m     14\u001b[0m     \u001b[0mcns\u001b[0m\u001b[0;34m.\u001b[0m\u001b[0mappend\u001b[0m\u001b[0;34m(\u001b[0m\u001b[0mrecs\u001b[0m\u001b[0;34m[\u001b[0m\u001b[0mnshp\u001b[0m\u001b[0;34m]\u001b[0m\u001b[0;34m[\u001b[0m\u001b[0;36m1\u001b[0m\u001b[0;34m]\u001b[0m\u001b[0;34m)\u001b[0m\u001b[0;34m\u001b[0m\u001b[0m\n\u001b[0;32m---> 15\u001b[0;31m \u001b[0mcns\u001b[0m \u001b[0;34m=\u001b[0m \u001b[0marray\u001b[0m\u001b[0;34m(\u001b[0m\u001b[0mcns\u001b[0m\u001b[0;34m)\u001b[0m\u001b[0;34m\u001b[0m\u001b[0m\n\u001b[0m\u001b[1;32m     16\u001b[0m \u001b[0mcm\u001b[0m    \u001b[0;34m=\u001b[0m \u001b[0mget_cmap\u001b[0m\u001b[0;34m(\u001b[0m\u001b[0;34m'Dark2'\u001b[0m\u001b[0;34m)\u001b[0m\u001b[0;34m\u001b[0m\u001b[0m\n\u001b[1;32m     17\u001b[0m \u001b[0mcccol\u001b[0m \u001b[0;34m=\u001b[0m \u001b[0mcm\u001b[0m\u001b[0;34m(\u001b[0m\u001b[0;36m1.\u001b[0m\u001b[0;34m*\u001b[0m\u001b[0marange\u001b[0m\u001b[0;34m(\u001b[0m\u001b[0mNshp\u001b[0m\u001b[0;34m)\u001b[0m\u001b[0;34m/\u001b[0m\u001b[0mNshp\u001b[0m\u001b[0;34m)\u001b[0m\u001b[0;34m\u001b[0m\u001b[0m\n",
        "\u001b[0;31mNameError\u001b[0m: name 'array' is not defined"
       ]
      }
     ],
     "prompt_number": 13
    },
    {
     "cell_type": "code",
     "collapsed": false,
     "input": [
      "from osgeo import ogr\n",
      "import numpy as np\n",
      "import matplotlib.path as mpath\n",
      "import matplotlib.patches as mpatches\n",
      "import matplotlib.pyplot as plt\n",
      "\n",
      "# Extract first layer of features from shapefile using OGR\n",
      "ds = ogr.Open(\"Data/states_21basic/states\")\n",
      "nlay = ds.GetLayerCount()\n",
      "lyr = ds.GetLayer(0)\n",
      "\n",
      "# Get extent and calculate buffer size\n",
      "ext = lyr.GetExtent()\n",
      "xoff = (ext[1]-ext[0])/50\n",
      "yoff = (ext[3]-ext[2])/50\n",
      "\n",
      "# Prepare figure\n",
      "fig = plt.figure()\n",
      "ax = fig.add_subplot(111)\n",
      "ax.set_xlim(ext[0]-xoff,ext[1]+xoff)\n",
      "ax.set_ylim(ext[2]-yoff,ext[3]+yoff)\n",
      "\n",
      "paths = []\n",
      "lyr.ResetReading()\n",
      "\n",
      "# Read all features in layer and store as paths\n",
      "for feat in lyr:\n",
      "    geom = feat.geometry()\n",
      "    codes = []\n",
      "    all_x = []\n",
      "    all_y = []\n",
      "    for i in range(geom.GetGeometryCount()):\n",
      "        # Read ring geometry and create path\n",
      "        r = geom.GetGeometryRef(i)\n",
      "        x = [r.GetX(j) for j in range(r.GetPointCount())]\n",
      "        y = [r.GetY(j) for j in range(r.GetPointCount())]\n",
      "        # skip boundary between individual rings\n",
      "        codes += [mpath.Path.MOVETO] + \\\n",
      "                     (len(x)-1)*[mpath.Path.LINETO]\n",
      "        all_x += x\n",
      "        all_y += y\n",
      "    path = mpath.Path(np.column_stack((all_x,all_y)), codes)\n",
      "    paths.append(path)\n",
      "\n",
      "# Add paths as patches to axes\n",
      "for path in paths:\n",
      "    patch = mpatches.PathPatch(path, \\\n",
      "            facecolor='blue', edgecolor='black')\n",
      "    ax.add_patch(patch)\n",
      "\n",
      "ax.set_aspect(1.0)\n",
      "plt.show()"
     ],
     "language": "python",
     "metadata": {},
     "outputs": [
      {
       "ename": "ImportError",
       "evalue": "No module named osgeo",
       "output_type": "pyerr",
       "traceback": [
        "\u001b[0;31m---------------------------------------------------------------------------\u001b[0m\n\u001b[0;31mImportError\u001b[0m                               Traceback (most recent call last)",
        "\u001b[0;32m<ipython-input-14-a36bb2346dab>\u001b[0m in \u001b[0;36m<module>\u001b[0;34m()\u001b[0m\n\u001b[0;32m----> 1\u001b[0;31m \u001b[0;32mfrom\u001b[0m \u001b[0mosgeo\u001b[0m \u001b[0;32mimport\u001b[0m \u001b[0mogr\u001b[0m\u001b[0;34m\u001b[0m\u001b[0m\n\u001b[0m\u001b[1;32m      2\u001b[0m \u001b[0;32mimport\u001b[0m \u001b[0mnumpy\u001b[0m \u001b[0;32mas\u001b[0m \u001b[0mnp\u001b[0m\u001b[0;34m\u001b[0m\u001b[0m\n\u001b[1;32m      3\u001b[0m \u001b[0;32mimport\u001b[0m \u001b[0mmatplotlib\u001b[0m\u001b[0;34m.\u001b[0m\u001b[0mpath\u001b[0m \u001b[0;32mas\u001b[0m \u001b[0mmpath\u001b[0m\u001b[0;34m\u001b[0m\u001b[0m\n\u001b[1;32m      4\u001b[0m \u001b[0;32mimport\u001b[0m \u001b[0mmatplotlib\u001b[0m\u001b[0;34m.\u001b[0m\u001b[0mpatches\u001b[0m \u001b[0;32mas\u001b[0m \u001b[0mmpatches\u001b[0m\u001b[0;34m\u001b[0m\u001b[0m\n\u001b[1;32m      5\u001b[0m \u001b[0;32mimport\u001b[0m \u001b[0mmatplotlib\u001b[0m\u001b[0;34m.\u001b[0m\u001b[0mpyplot\u001b[0m \u001b[0;32mas\u001b[0m \u001b[0mplt\u001b[0m\u001b[0;34m\u001b[0m\u001b[0m\n",
        "\u001b[0;31mImportError\u001b[0m: No module named osgeo"
       ]
      }
     ],
     "prompt_number": 14
    },
    {
     "cell_type": "code",
     "collapsed": false,
     "input": [],
     "language": "python",
     "metadata": {},
     "outputs": []
    }
   ],
   "metadata": {}
  }
 ]
}